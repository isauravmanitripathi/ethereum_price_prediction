{
  "nbformat": 4,
  "nbformat_minor": 0,
  "metadata": {
    "colab": {
      "provenance": []
    },
    "kernelspec": {
      "name": "python3",
      "display_name": "Python 3"
    },
    "language_info": {
      "name": "python"
    }
  },
  "cells": [
    {
      "cell_type": "code",
      "execution_count": 2,
      "metadata": {
        "id": "d9IlulzqPTld"
      },
      "outputs": [],
      "source": [
        "import pandas as pd\n",
        "import numpy as np \n",
        "import matplotlib.pyplot as plt\n",
        "from keras.models import Sequential \n",
        "from keras.layers import LSTM, Dropout, Dense, Activation\n",
        "from keras.callbacks import TensorBoard, ModelCheckpoint, ReduceLROnPlateau \n",
        "import datetime"
      ]
    },
    {
      "cell_type": "code",
      "source": [
        "data = pd.read_csv('/content/Dataset/eth.csv')\n",
        "data.head()"
      ],
      "metadata": {
        "colab": {
          "base_uri": "https://localhost:8080/",
          "height": 206
        },
        "id": "3Ej-A5yLQhIu",
        "outputId": "8f7408f8-9165-410b-d161-ed3665d2e737"
      },
      "execution_count": 3,
      "outputs": [
        {
          "output_type": "execute_result",
          "data": {
            "text/plain": [
              "        Date    Open    High     Low   Close          Volume         Market Cap\n",
              "0  31.Oct.17  307.38  310.55  305.88  305.88  369,583,008.00  29,331,517,440.00\n",
              "1   1.Nov.17  305.76  306.40  290.58  291.69  553,864,000.00  29,183,592,448.00\n",
              "2   2.Nov.17  290.73  293.91  281.17  287.43  904,900,992.00  27,754,237,952.00\n",
              "3   3.Nov.17  288.50  308.31  287.69  305.71  646,339,968.00  27,547,410,432.00\n",
              "4   4.Nov.17  305.48  305.48  295.80  300.47  416,479,008.00  29,175,347,200.00"
            ],
            "text/html": [
              "\n",
              "  <div id=\"df-1bbfb9d7-1b31-45e5-936b-3f283da9bad7\">\n",
              "    <div class=\"colab-df-container\">\n",
              "      <div>\n",
              "<style scoped>\n",
              "    .dataframe tbody tr th:only-of-type {\n",
              "        vertical-align: middle;\n",
              "    }\n",
              "\n",
              "    .dataframe tbody tr th {\n",
              "        vertical-align: top;\n",
              "    }\n",
              "\n",
              "    .dataframe thead th {\n",
              "        text-align: right;\n",
              "    }\n",
              "</style>\n",
              "<table border=\"1\" class=\"dataframe\">\n",
              "  <thead>\n",
              "    <tr style=\"text-align: right;\">\n",
              "      <th></th>\n",
              "      <th>Date</th>\n",
              "      <th>Open</th>\n",
              "      <th>High</th>\n",
              "      <th>Low</th>\n",
              "      <th>Close</th>\n",
              "      <th>Volume</th>\n",
              "      <th>Market Cap</th>\n",
              "    </tr>\n",
              "  </thead>\n",
              "  <tbody>\n",
              "    <tr>\n",
              "      <th>0</th>\n",
              "      <td>31.Oct.17</td>\n",
              "      <td>307.38</td>\n",
              "      <td>310.55</td>\n",
              "      <td>305.88</td>\n",
              "      <td>305.88</td>\n",
              "      <td>369,583,008.00</td>\n",
              "      <td>29,331,517,440.00</td>\n",
              "    </tr>\n",
              "    <tr>\n",
              "      <th>1</th>\n",
              "      <td>1.Nov.17</td>\n",
              "      <td>305.76</td>\n",
              "      <td>306.40</td>\n",
              "      <td>290.58</td>\n",
              "      <td>291.69</td>\n",
              "      <td>553,864,000.00</td>\n",
              "      <td>29,183,592,448.00</td>\n",
              "    </tr>\n",
              "    <tr>\n",
              "      <th>2</th>\n",
              "      <td>2.Nov.17</td>\n",
              "      <td>290.73</td>\n",
              "      <td>293.91</td>\n",
              "      <td>281.17</td>\n",
              "      <td>287.43</td>\n",
              "      <td>904,900,992.00</td>\n",
              "      <td>27,754,237,952.00</td>\n",
              "    </tr>\n",
              "    <tr>\n",
              "      <th>3</th>\n",
              "      <td>3.Nov.17</td>\n",
              "      <td>288.50</td>\n",
              "      <td>308.31</td>\n",
              "      <td>287.69</td>\n",
              "      <td>305.71</td>\n",
              "      <td>646,339,968.00</td>\n",
              "      <td>27,547,410,432.00</td>\n",
              "    </tr>\n",
              "    <tr>\n",
              "      <th>4</th>\n",
              "      <td>4.Nov.17</td>\n",
              "      <td>305.48</td>\n",
              "      <td>305.48</td>\n",
              "      <td>295.80</td>\n",
              "      <td>300.47</td>\n",
              "      <td>416,479,008.00</td>\n",
              "      <td>29,175,347,200.00</td>\n",
              "    </tr>\n",
              "  </tbody>\n",
              "</table>\n",
              "</div>\n",
              "      <button class=\"colab-df-convert\" onclick=\"convertToInteractive('df-1bbfb9d7-1b31-45e5-936b-3f283da9bad7')\"\n",
              "              title=\"Convert this dataframe to an interactive table.\"\n",
              "              style=\"display:none;\">\n",
              "        \n",
              "  <svg xmlns=\"http://www.w3.org/2000/svg\" height=\"24px\"viewBox=\"0 0 24 24\"\n",
              "       width=\"24px\">\n",
              "    <path d=\"M0 0h24v24H0V0z\" fill=\"none\"/>\n",
              "    <path d=\"M18.56 5.44l.94 2.06.94-2.06 2.06-.94-2.06-.94-.94-2.06-.94 2.06-2.06.94zm-11 1L8.5 8.5l.94-2.06 2.06-.94-2.06-.94L8.5 2.5l-.94 2.06-2.06.94zm10 10l.94 2.06.94-2.06 2.06-.94-2.06-.94-.94-2.06-.94 2.06-2.06.94z\"/><path d=\"M17.41 7.96l-1.37-1.37c-.4-.4-.92-.59-1.43-.59-.52 0-1.04.2-1.43.59L10.3 9.45l-7.72 7.72c-.78.78-.78 2.05 0 2.83L4 21.41c.39.39.9.59 1.41.59.51 0 1.02-.2 1.41-.59l7.78-7.78 2.81-2.81c.8-.78.8-2.07 0-2.86zM5.41 20L4 18.59l7.72-7.72 1.47 1.35L5.41 20z\"/>\n",
              "  </svg>\n",
              "      </button>\n",
              "      \n",
              "  <style>\n",
              "    .colab-df-container {\n",
              "      display:flex;\n",
              "      flex-wrap:wrap;\n",
              "      gap: 12px;\n",
              "    }\n",
              "\n",
              "    .colab-df-convert {\n",
              "      background-color: #E8F0FE;\n",
              "      border: none;\n",
              "      border-radius: 50%;\n",
              "      cursor: pointer;\n",
              "      display: none;\n",
              "      fill: #1967D2;\n",
              "      height: 32px;\n",
              "      padding: 0 0 0 0;\n",
              "      width: 32px;\n",
              "    }\n",
              "\n",
              "    .colab-df-convert:hover {\n",
              "      background-color: #E2EBFA;\n",
              "      box-shadow: 0px 1px 2px rgba(60, 64, 67, 0.3), 0px 1px 3px 1px rgba(60, 64, 67, 0.15);\n",
              "      fill: #174EA6;\n",
              "    }\n",
              "\n",
              "    [theme=dark] .colab-df-convert {\n",
              "      background-color: #3B4455;\n",
              "      fill: #D2E3FC;\n",
              "    }\n",
              "\n",
              "    [theme=dark] .colab-df-convert:hover {\n",
              "      background-color: #434B5C;\n",
              "      box-shadow: 0px 1px 3px 1px rgba(0, 0, 0, 0.15);\n",
              "      filter: drop-shadow(0px 1px 2px rgba(0, 0, 0, 0.3));\n",
              "      fill: #FFFFFF;\n",
              "    }\n",
              "  </style>\n",
              "\n",
              "      <script>\n",
              "        const buttonEl =\n",
              "          document.querySelector('#df-1bbfb9d7-1b31-45e5-936b-3f283da9bad7 button.colab-df-convert');\n",
              "        buttonEl.style.display =\n",
              "          google.colab.kernel.accessAllowed ? 'block' : 'none';\n",
              "\n",
              "        async function convertToInteractive(key) {\n",
              "          const element = document.querySelector('#df-1bbfb9d7-1b31-45e5-936b-3f283da9bad7');\n",
              "          const dataTable =\n",
              "            await google.colab.kernel.invokeFunction('convertToInteractive',\n",
              "                                                     [key], {});\n",
              "          if (!dataTable) return;\n",
              "\n",
              "          const docLinkHtml = 'Like what you see? Visit the ' +\n",
              "            '<a target=\"_blank\" href=https://colab.research.google.com/notebooks/data_table.ipynb>data table notebook</a>'\n",
              "            + ' to learn more about interactive tables.';\n",
              "          element.innerHTML = '';\n",
              "          dataTable['output_type'] = 'display_data';\n",
              "          await google.colab.output.renderOutput(dataTable, element);\n",
              "          const docLink = document.createElement('div');\n",
              "          docLink.innerHTML = docLinkHtml;\n",
              "          element.appendChild(docLink);\n",
              "        }\n",
              "      </script>\n",
              "    </div>\n",
              "  </div>\n",
              "  "
            ]
          },
          "metadata": {},
          "execution_count": 3
        }
      ]
    },
    {
      "cell_type": "code",
      "source": [
        "high_prices = data['High'].values \n",
        "low_prices = data['Low'].values \n",
        "mid_prices = (high_prices + low_prices) / 2"
      ],
      "metadata": {
        "id": "jmS84hlgQrKU"
      },
      "execution_count": 4,
      "outputs": []
    },
    {
      "cell_type": "code",
      "source": [
        "seq_len = 50\n",
        "sequence_length = seq_len + 1 \n",
        "\n",
        "result = []\n",
        "\n",
        "for index in range(len(mid_prices) - sequence_length):\n",
        "  result.append(mid_prices[index: index + sequence_length])"
      ],
      "metadata": {
        "id": "0LYQMVmrQ3gn"
      },
      "execution_count": 5,
      "outputs": []
    },
    {
      "cell_type": "code",
      "source": [
        "def normalize_windows(data):\n",
        "  normalized_data = []\n",
        "  for window in data:\n",
        "    normalized_window = [((float(p) / float(window[0])) - 1) for p in window]\n",
        "    normalized_data.append(normalized_window)\n",
        "  return np.array(normalized_data)\n",
        "\n",
        "result = normalize_windows(result)\n",
        "\n",
        "\n",
        "# split train and test data \n",
        "row = int(round(result.shape[0] * 0.9))\n",
        "train = result[:row, :]\n",
        "np.random.shuffle(train)\n",
        "\n",
        "x_train = train[:, :-1]\n",
        "x_train = np.reshape(x_train, (x_train.shape[0], x_train.shape[1],1))\n",
        "y_train = train[:, -1]\n",
        "\n",
        "x_test = result[row:, :-1]\n",
        "x_test = np.reshape(x_test, (x_test.shape[0], x_test.shape[1],1))\n",
        "y_test = result[row:, -1]\n",
        "\n",
        "x_train.shape, x_test.shape"
      ],
      "metadata": {
        "colab": {
          "base_uri": "https://localhost:8080/"
        },
        "id": "IvxoB5_ARGUV",
        "outputId": "4cf76cd2-b3c6-467c-db17-d5201697c004"
      },
      "execution_count": 6,
      "outputs": [
        {
          "output_type": "execute_result",
          "data": {
            "text/plain": [
              "((283, 50, 1), (31, 50, 1))"
            ]
          },
          "metadata": {},
          "execution_count": 6
        }
      ]
    },
    {
      "cell_type": "code",
      "source": [
        "model = Sequential()\n",
        "\n",
        "model.add(LSTM(50, return_sequences = True, input_shape = (50,1)))\n",
        "model.add(LSTM(64, return_sequences = False))\n",
        "model.add(Dense(1, activation = 'linear'))\n",
        "model.compile(loss = 'mse', optimizer = 'rmsprop')\n",
        "model.summary()"
      ],
      "metadata": {
        "colab": {
          "base_uri": "https://localhost:8080/"
        },
        "id": "7E42p4dOSbyw",
        "outputId": "874206f9-3e62-4cbb-f555-6c3f7dc5d660"
      },
      "execution_count": 8,
      "outputs": [
        {
          "output_type": "stream",
          "name": "stdout",
          "text": [
            "Model: \"sequential_1\"\n",
            "_________________________________________________________________\n",
            " Layer (type)                Output Shape              Param #   \n",
            "=================================================================\n",
            " lstm (LSTM)                 (None, 50, 50)            10400     \n",
            "                                                                 \n",
            " lstm_1 (LSTM)               (None, 64)                29440     \n",
            "                                                                 \n",
            " dense (Dense)               (None, 1)                 65        \n",
            "                                                                 \n",
            "=================================================================\n",
            "Total params: 39,905\n",
            "Trainable params: 39,905\n",
            "Non-trainable params: 0\n",
            "_________________________________________________________________\n"
          ]
        }
      ]
    },
    {
      "cell_type": "code",
      "source": [
        "start_time = datetime.datetime.now().strftime('%Y_%m_%d_%H_%M_%S')\n",
        "\n",
        "model.fit(x_train, y_train, \n",
        "          validation_data = (x_test,y_test),\n",
        "          batch_size = 10,\n",
        "          epochs = 20,\n",
        "          callbacks = [\n",
        "              TensorBoard(log_dir = 'logs/%s' % (start_time)),\n",
        "              ModelCheckpoint('./models/%s_eth.h5' % (start_time), monitor = 'val_loss', verbose = 1, save_best_only = True, mode = 'auto'),\n",
        "              ReduceLROnPlateau(monitor = 'val_loss', factor = 0.2, patience = 5, verbose = 1, mode = 'auto')\n",
        "          ])"
      ],
      "metadata": {
        "colab": {
          "base_uri": "https://localhost:8080/"
        },
        "id": "4bWBAb7bS02r",
        "outputId": "6db31f6f-1f49-4f98-8810-d4d9540c33c0"
      },
      "execution_count": 9,
      "outputs": [
        {
          "output_type": "stream",
          "name": "stdout",
          "text": [
            "Epoch 1/20\n",
            "29/29 [==============================] - ETA: 0s - loss: 0.1004\n",
            "Epoch 1: val_loss improved from inf to 0.00239, saving model to ./models/2022_12_21_10_50_57_eth.h5\n",
            "29/29 [==============================] - 7s 80ms/step - loss: 0.1004 - val_loss: 0.0024 - lr: 0.0010\n",
            "Epoch 2/20\n",
            "29/29 [==============================] - ETA: 0s - loss: 0.0438\n",
            "Epoch 2: val_loss improved from 0.00239 to 0.00129, saving model to ./models/2022_12_21_10_50_57_eth.h5\n",
            "29/29 [==============================] - 1s 48ms/step - loss: 0.0438 - val_loss: 0.0013 - lr: 0.0010\n",
            "Epoch 3/20\n",
            "29/29 [==============================] - ETA: 0s - loss: 0.0333\n",
            "Epoch 3: val_loss did not improve from 0.00129\n",
            "29/29 [==============================] - 1s 46ms/step - loss: 0.0333 - val_loss: 0.0029 - lr: 0.0010\n",
            "Epoch 4/20\n",
            "28/29 [===========================>..] - ETA: 0s - loss: 0.0350\n",
            "Epoch 4: val_loss improved from 0.00129 to 0.00107, saving model to ./models/2022_12_21_10_50_57_eth.h5\n",
            "29/29 [==============================] - 1s 46ms/step - loss: 0.0347 - val_loss: 0.0011 - lr: 0.0010\n",
            "Epoch 5/20\n",
            "28/29 [===========================>..] - ETA: 0s - loss: 0.0324\n",
            "Epoch 5: val_loss did not improve from 0.00107\n",
            "29/29 [==============================] - 1s 47ms/step - loss: 0.0324 - val_loss: 0.0023 - lr: 0.0010\n",
            "Epoch 6/20\n",
            "28/29 [===========================>..] - ETA: 0s - loss: 0.0255\n",
            "Epoch 6: val_loss did not improve from 0.00107\n",
            "29/29 [==============================] - 1s 46ms/step - loss: 0.0254 - val_loss: 0.0015 - lr: 0.0010\n",
            "Epoch 7/20\n",
            "29/29 [==============================] - ETA: 0s - loss: 0.0199\n",
            "Epoch 7: val_loss did not improve from 0.00107\n",
            "29/29 [==============================] - 1s 45ms/step - loss: 0.0199 - val_loss: 0.0046 - lr: 0.0010\n",
            "Epoch 8/20\n",
            "29/29 [==============================] - ETA: 0s - loss: 0.0205\n",
            "Epoch 8: val_loss improved from 0.00107 to 0.00075, saving model to ./models/2022_12_21_10_50_57_eth.h5\n",
            "29/29 [==============================] - 1s 47ms/step - loss: 0.0205 - val_loss: 7.4511e-04 - lr: 0.0010\n",
            "Epoch 9/20\n",
            "29/29 [==============================] - ETA: 0s - loss: 0.0167\n",
            "Epoch 9: val_loss did not improve from 0.00075\n",
            "29/29 [==============================] - 1s 46ms/step - loss: 0.0167 - val_loss: 0.0022 - lr: 0.0010\n",
            "Epoch 10/20\n",
            "28/29 [===========================>..] - ETA: 0s - loss: 0.0158\n",
            "Epoch 10: val_loss did not improve from 0.00075\n",
            "29/29 [==============================] - 1s 46ms/step - loss: 0.0168 - val_loss: 0.0010 - lr: 0.0010\n",
            "Epoch 11/20\n",
            "29/29 [==============================] - ETA: 0s - loss: 0.0171\n",
            "Epoch 11: val_loss did not improve from 0.00075\n",
            "29/29 [==============================] - 1s 46ms/step - loss: 0.0171 - val_loss: 7.8561e-04 - lr: 0.0010\n",
            "Epoch 12/20\n",
            "28/29 [===========================>..] - ETA: 0s - loss: 0.0144\n",
            "Epoch 12: val_loss did not improve from 0.00075\n",
            "29/29 [==============================] - 1s 45ms/step - loss: 0.0143 - val_loss: 9.3208e-04 - lr: 0.0010\n",
            "Epoch 13/20\n",
            "29/29 [==============================] - ETA: 0s - loss: 0.0156\n",
            "Epoch 13: val_loss did not improve from 0.00075\n",
            "\n",
            "Epoch 13: ReduceLROnPlateau reducing learning rate to 0.00020000000949949026.\n",
            "29/29 [==============================] - 1s 45ms/step - loss: 0.0156 - val_loss: 7.5966e-04 - lr: 0.0010\n",
            "Epoch 14/20\n",
            "28/29 [===========================>..] - ETA: 0s - loss: 0.0126\n",
            "Epoch 14: val_loss did not improve from 0.00075\n",
            "29/29 [==============================] - 1s 46ms/step - loss: 0.0125 - val_loss: 0.0010 - lr: 2.0000e-04\n",
            "Epoch 15/20\n",
            "28/29 [===========================>..] - ETA: 0s - loss: 0.0114\n",
            "Epoch 15: val_loss did not improve from 0.00075\n",
            "29/29 [==============================] - 1s 45ms/step - loss: 0.0113 - val_loss: 8.4362e-04 - lr: 2.0000e-04\n",
            "Epoch 16/20\n",
            "29/29 [==============================] - ETA: 0s - loss: 0.0114\n",
            "Epoch 16: val_loss did not improve from 0.00075\n",
            "29/29 [==============================] - 1s 46ms/step - loss: 0.0114 - val_loss: 9.9163e-04 - lr: 2.0000e-04\n",
            "Epoch 17/20\n",
            "28/29 [===========================>..] - ETA: 0s - loss: 0.0105\n",
            "Epoch 17: val_loss did not improve from 0.00075\n",
            "29/29 [==============================] - 1s 45ms/step - loss: 0.0104 - val_loss: 8.1633e-04 - lr: 2.0000e-04\n",
            "Epoch 18/20\n",
            "29/29 [==============================] - ETA: 0s - loss: 0.0107\n",
            "Epoch 18: val_loss did not improve from 0.00075\n",
            "\n",
            "Epoch 18: ReduceLROnPlateau reducing learning rate to 4.0000001899898055e-05.\n",
            "29/29 [==============================] - 1s 45ms/step - loss: 0.0107 - val_loss: 9.3528e-04 - lr: 2.0000e-04\n",
            "Epoch 19/20\n",
            "29/29 [==============================] - ETA: 0s - loss: 0.0106\n",
            "Epoch 19: val_loss did not improve from 0.00075\n",
            "29/29 [==============================] - 1s 47ms/step - loss: 0.0106 - val_loss: 8.1658e-04 - lr: 4.0000e-05\n",
            "Epoch 20/20\n",
            "28/29 [===========================>..] - ETA: 0s - loss: 0.0102\n",
            "Epoch 20: val_loss did not improve from 0.00075\n",
            "29/29 [==============================] - 1s 46ms/step - loss: 0.0101 - val_loss: 8.3470e-04 - lr: 4.0000e-05\n"
          ]
        },
        {
          "output_type": "execute_result",
          "data": {
            "text/plain": [
              "<keras.callbacks.History at 0x7fd6b0165970>"
            ]
          },
          "metadata": {},
          "execution_count": 9
        }
      ]
    },
    {
      "cell_type": "code",
      "source": [
        "pred = model.predict(x_test)\n",
        "\n",
        "fig = plt.figure(facecolor ='white', figsize = (20,10))\n",
        "ax = fig.add_subplot(111)\n",
        "ax.plot(y_test, label = 'True')\n",
        "ax.plot(pred, label = 'Prediction')\n",
        "ax.legend()\n",
        "plt.show()"
      ],
      "metadata": {
        "colab": {
          "base_uri": "https://localhost:8080/",
          "height": 523
        },
        "id": "OCr_XVHzTshM",
        "outputId": "7e9245fe-cc33-498d-cdce-fade2ca62e40"
      },
      "execution_count": 10,
      "outputs": [
        {
          "output_type": "stream",
          "name": "stdout",
          "text": [
            "1/1 [==============================] - 1s 829ms/step\n"
          ]
        },
        {
          "output_type": "display_data",
          "data": {
            "text/plain": [
              "<Figure size 1440x720 with 1 Axes>"
            ],
            "image/png": "[encoded data removed]"
          },
          "metadata": {}
        }
      ]
    },
    {
      "cell_type": "code",
      "source": [
        "# and that's it for now my friends, check the link in description for mode content. subcribe to \n",
        "my newslatetter "
      ],
      "metadata": {
        "id": "XJ-Xkvd7UIPw"
      },
      "execution_count": null,
      "outputs": []
    }
  ]
}